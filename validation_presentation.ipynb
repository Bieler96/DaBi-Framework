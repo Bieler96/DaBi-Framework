{
 "cells": [
  {
   "cell_type": "markdown",
   "metadata": {},
   "source": [
    "# Präsentation des DaBi-Framework Validierungs-Pakets\n",
    "\n",
    "Dieses Notebook demonstriert die Verwendung des `validation`-Pakets im DaBi-Framework, das eine Domain Specific Language (DSL) zur Definition und Validierung von Daten-Schemas bietet."
   ]
  },
  {
   "cell_type": "markdown",
   "metadata": {},
   "source": [
    "## 1. Importe\n",
    "\n",
    "Zuerst importieren wir die notwendigen Klassen aus dem `validation`-Paket."
   ]
  },
  {
   "cell_type": "code",
   "metadata": {
    "ExecuteTime": {
     "end_time": "2025-08-08T21:26:18.445433Z",
     "start_time": "2025-08-08T21:26:18.408405Z"
    }
   },
   "source": [
    "import validation.schema.dsl.*\n",
    "import validation.error.ValidationError\n",
    "import org.json.JSONObject"
   ],
   "outputs": [
    {
     "ename": "org.jetbrains.kotlinx.jupyter.exceptions.ReplCompilerException",
     "evalue": "at Cell In[5], line 1, column 8: Unresolved reference: validation\nat Cell In[5], line 2, column 8: Unresolved reference: validation\nat Cell In[5], line 3, column 12: Unresolved reference: json",
     "output_type": "error",
     "traceback": [
      "org.jetbrains.kotlinx.jupyter.exceptions.ReplCompilerException: at Cell In[5], line 1, column 8: Unresolved reference: validation",
      "at Cell In[5], line 2, column 8: Unresolved reference: validation",
      "at Cell In[5], line 3, column 12: Unresolved reference: json",
      "\tat org.jetbrains.kotlinx.jupyter.repl.impl.JupyterCompilerImpl.compileSync(JupyterCompilerImpl.kt:152)",
      "\tat org.jetbrains.kotlinx.jupyter.repl.impl.InternalEvaluatorImpl.eval(InternalEvaluatorImpl.kt:127)",
      "\tat org.jetbrains.kotlinx.jupyter.repl.impl.CellExecutorImpl.execute_L4Nmkdk$lambda$9$lambda$1(CellExecutorImpl.kt:80)",
      "\tat org.jetbrains.kotlinx.jupyter.repl.impl.ReplForJupyterImpl.withHost(ReplForJupyterImpl.kt:794)",
      "\tat org.jetbrains.kotlinx.jupyter.repl.impl.CellExecutorImpl.execute-L4Nmkdk(CellExecutorImpl.kt:78)",
      "\tat org.jetbrains.kotlinx.jupyter.repl.execution.CellExecutor.execute-L4Nmkdk$default(CellExecutor.kt:14)",
      "\tat org.jetbrains.kotlinx.jupyter.repl.impl.ReplForJupyterImpl.evaluateUserCode-wNURfNM(ReplForJupyterImpl.kt:616)",
      "\tat org.jetbrains.kotlinx.jupyter.repl.impl.ReplForJupyterImpl.evalExImpl(ReplForJupyterImpl.kt:474)",
      "\tat org.jetbrains.kotlinx.jupyter.repl.impl.ReplForJupyterImpl.evalEx$lambda$20(ReplForJupyterImpl.kt:467)",
      "\tat org.jetbrains.kotlinx.jupyter.repl.impl.ReplForJupyterImpl.withEvalContext(ReplForJupyterImpl.kt:447)",
      "\tat org.jetbrains.kotlinx.jupyter.repl.impl.ReplForJupyterImpl.evalEx(ReplForJupyterImpl.kt:466)",
      "\tat org.jetbrains.kotlinx.jupyter.messaging.IdeCompatibleMessageRequestProcessor.processExecuteRequest$lambda$7$lambda$6$lambda$5(IdeCompatibleMessageRequestProcessor.kt:160)",
      "\tat org.jetbrains.kotlinx.jupyter.streams.BlockingSubstitutionEngine.withDataSubstitution(SubstitutionEngine.kt:70)",
      "\tat org.jetbrains.kotlinx.jupyter.streams.StreamSubstitutionManager.withSubstitutedStreams(StreamSubstitutionManager.kt:118)",
      "\tat org.jetbrains.kotlinx.jupyter.messaging.IdeCompatibleMessageRequestProcessor.withForkedIn(IdeCompatibleMessageRequestProcessor.kt:354)",
      "\tat org.jetbrains.kotlinx.jupyter.messaging.IdeCompatibleMessageRequestProcessor.evalWithIO$lambda$16$lambda$15(IdeCompatibleMessageRequestProcessor.kt:368)",
      "\tat org.jetbrains.kotlinx.jupyter.streams.BlockingSubstitutionEngine.withDataSubstitution(SubstitutionEngine.kt:70)",
      "\tat org.jetbrains.kotlinx.jupyter.streams.StreamSubstitutionManager.withSubstitutedStreams(StreamSubstitutionManager.kt:118)",
      "\tat org.jetbrains.kotlinx.jupyter.messaging.IdeCompatibleMessageRequestProcessor.withForkedErr(IdeCompatibleMessageRequestProcessor.kt:343)",
      "\tat org.jetbrains.kotlinx.jupyter.messaging.IdeCompatibleMessageRequestProcessor.evalWithIO$lambda$16(IdeCompatibleMessageRequestProcessor.kt:367)",
      "\tat org.jetbrains.kotlinx.jupyter.streams.BlockingSubstitutionEngine.withDataSubstitution(SubstitutionEngine.kt:70)",
      "\tat org.jetbrains.kotlinx.jupyter.streams.StreamSubstitutionManager.withSubstitutedStreams(StreamSubstitutionManager.kt:118)",
      "\tat org.jetbrains.kotlinx.jupyter.messaging.IdeCompatibleMessageRequestProcessor.withForkedOut(IdeCompatibleMessageRequestProcessor.kt:335)",
      "\tat org.jetbrains.kotlinx.jupyter.messaging.IdeCompatibleMessageRequestProcessor.evalWithIO(IdeCompatibleMessageRequestProcessor.kt:366)",
      "\tat org.jetbrains.kotlinx.jupyter.messaging.IdeCompatibleMessageRequestProcessor.processExecuteRequest$lambda$7$lambda$6(IdeCompatibleMessageRequestProcessor.kt:159)",
      "\tat org.jetbrains.kotlinx.jupyter.execution.JupyterExecutorImpl$Task.execute(JupyterExecutorImpl.kt:41)",
      "\tat org.jetbrains.kotlinx.jupyter.execution.JupyterExecutorImpl.executorThread$lambda$0(JupyterExecutorImpl.kt:83)",
      "\tat kotlin.concurrent.ThreadsKt$thread$thread$1.run(Thread.kt:30)",
      ""
     ]
    }
   ],
   "execution_count": 5
  },
  {
   "cell_type": "markdown",
   "metadata": {},
   "source": [
    "## 2. Schema-Definition\n",
    "\n",
    "Das `validation`-Paket ermöglicht die Definition von Schemas mit einer intuitiven DSL. Hier sind einige Beispiele für verschiedene Datentypen."
   ]
  },
  {
   "cell_type": "markdown",
   "metadata": {},
   "source": [
    "### 2.1 String-Schema\n",
    "\n",
    "Ein einfaches String-Schema mit Mindest- und Höchstlänge."
   ]
  },
  {
   "cell_type": "code",
   "metadata": {
    "ExecuteTime": {
     "end_time": "2025-08-08T21:27:11.698484Z",
     "start_time": "2025-08-08T21:27:11.519004Z"
    }
   },
   "source": [
    "import validation.schema.dsl.string\n",
    "\n",
    "val stringSchema =\n",
    "    stringSchema(\"name\") {\n",
    "        minLength(3)\n",
    "        maxLength(50)\n",
    "    }\n",
    "\n",
    "\n",
    "println(\"String Schema: $stringSchema\")"
   ],
   "outputs": [
    {
     "ename": "org.jetbrains.kotlinx.jupyter.exceptions.ReplCompilerException",
     "evalue": "Line_3.jupyter.kts (4:5 - 7:6) Type checking has run into a recursive problem. Easiest workaround: specify types of your declarations explicitly",
     "output_type": "error",
     "traceback": [
      "org.jetbrains.kotlinx.jupyter.exceptions.ReplCompilerException: Line_3.jupyter.kts (4:5 - 7:6) Type checking has run into a recursive problem. Easiest workaround: specify types of your declarations explicitly",
      "\tat org.jetbrains.kotlinx.jupyter.repl.impl.JupyterCompilerImpl.compileSync(JupyterCompilerImpl.kt:152)",
      "\tat org.jetbrains.kotlinx.jupyter.repl.impl.InternalEvaluatorImpl.eval(InternalEvaluatorImpl.kt:127)",
      "\tat org.jetbrains.kotlinx.jupyter.repl.impl.CellExecutorImpl.execute_L4Nmkdk$lambda$9$lambda$1(CellExecutorImpl.kt:80)",
      "\tat org.jetbrains.kotlinx.jupyter.repl.impl.ReplForJupyterImpl.withHost(ReplForJupyterImpl.kt:794)",
      "\tat org.jetbrains.kotlinx.jupyter.repl.impl.CellExecutorImpl.execute-L4Nmkdk(CellExecutorImpl.kt:78)",
      "\tat org.jetbrains.kotlinx.jupyter.repl.execution.CellExecutor.execute-L4Nmkdk$default(CellExecutor.kt:14)",
      "\tat org.jetbrains.kotlinx.jupyter.repl.impl.ReplForJupyterImpl.evaluateUserCode-wNURfNM(ReplForJupyterImpl.kt:616)",
      "\tat org.jetbrains.kotlinx.jupyter.repl.impl.ReplForJupyterImpl.evalExImpl(ReplForJupyterImpl.kt:474)",
      "\tat org.jetbrains.kotlinx.jupyter.repl.impl.ReplForJupyterImpl.evalEx$lambda$20(ReplForJupyterImpl.kt:467)",
      "\tat org.jetbrains.kotlinx.jupyter.repl.impl.ReplForJupyterImpl.withEvalContext(ReplForJupyterImpl.kt:447)",
      "\tat org.jetbrains.kotlinx.jupyter.repl.impl.ReplForJupyterImpl.evalEx(ReplForJupyterImpl.kt:466)",
      "\tat org.jetbrains.kotlinx.jupyter.messaging.IdeCompatibleMessageRequestProcessor.processExecuteRequest$lambda$7$lambda$6$lambda$5(IdeCompatibleMessageRequestProcessor.kt:160)",
      "\tat org.jetbrains.kotlinx.jupyter.streams.BlockingSubstitutionEngine.withDataSubstitution(SubstitutionEngine.kt:70)",
      "\tat org.jetbrains.kotlinx.jupyter.streams.StreamSubstitutionManager.withSubstitutedStreams(StreamSubstitutionManager.kt:118)",
      "\tat org.jetbrains.kotlinx.jupyter.messaging.IdeCompatibleMessageRequestProcessor.withForkedIn(IdeCompatibleMessageRequestProcessor.kt:354)",
      "\tat org.jetbrains.kotlinx.jupyter.messaging.IdeCompatibleMessageRequestProcessor.evalWithIO$lambda$16$lambda$15(IdeCompatibleMessageRequestProcessor.kt:368)",
      "\tat org.jetbrains.kotlinx.jupyter.streams.BlockingSubstitutionEngine.withDataSubstitution(SubstitutionEngine.kt:70)",
      "\tat org.jetbrains.kotlinx.jupyter.streams.StreamSubstitutionManager.withSubstitutedStreams(StreamSubstitutionManager.kt:118)",
      "\tat org.jetbrains.kotlinx.jupyter.messaging.IdeCompatibleMessageRequestProcessor.withForkedErr(IdeCompatibleMessageRequestProcessor.kt:343)",
      "\tat org.jetbrains.kotlinx.jupyter.messaging.IdeCompatibleMessageRequestProcessor.evalWithIO$lambda$16(IdeCompatibleMessageRequestProcessor.kt:367)",
      "\tat org.jetbrains.kotlinx.jupyter.streams.BlockingSubstitutionEngine.withDataSubstitution(SubstitutionEngine.kt:70)",
      "\tat org.jetbrains.kotlinx.jupyter.streams.StreamSubstitutionManager.withSubstitutedStreams(StreamSubstitutionManager.kt:118)",
      "\tat org.jetbrains.kotlinx.jupyter.messaging.IdeCompatibleMessageRequestProcessor.withForkedOut(IdeCompatibleMessageRequestProcessor.kt:335)",
      "\tat org.jetbrains.kotlinx.jupyter.messaging.IdeCompatibleMessageRequestProcessor.evalWithIO(IdeCompatibleMessageRequestProcessor.kt:366)",
      "\tat org.jetbrains.kotlinx.jupyter.messaging.IdeCompatibleMessageRequestProcessor.processExecuteRequest$lambda$7$lambda$6(IdeCompatibleMessageRequestProcessor.kt:159)",
      "\tat org.jetbrains.kotlinx.jupyter.execution.JupyterExecutorImpl$Task.execute(JupyterExecutorImpl.kt:41)",
      "\tat org.jetbrains.kotlinx.jupyter.execution.JupyterExecutorImpl.executorThread$lambda$0(JupyterExecutorImpl.kt:83)",
      "\tat kotlin.concurrent.ThreadsKt$thread$thread$1.run(Thread.kt:30)",
      ""
     ]
    }
   ],
   "execution_count": 2
  },
  {
   "metadata": {},
   "cell_type": "code",
   "outputs": [],
   "execution_count": null,
   "source": ""
  },
  {
   "cell_type": "markdown",
   "metadata": {},
   "source": [
    "### 2.2 Number-Schema\n",
    "\n",
    "Ein Zahlen-Schema mit Mindest- und Höchstwert."
   ]
  },
  {
   "cell_type": "code",
   "execution_count": null,
   "metadata": {},
   "outputs": [],
   "source": [
    "val numberSchema = schema {\n",
    "    number(\"age\") {\n",
    "        min(0)\n",
    "        max(120)\n",
    "    }\n",
    "}\n",
    "\n",
    "println(\"Number Schema: $numberSchema\")"
   ]
  },
  {
   "cell_type": "markdown",
   "metadata": {},
   "source": [
    "### 2.3 Boolean-Schema\n",
    "\n",
    "Ein einfaches Boolean-Schema."
   ]
  },
  {
   "cell_type": "code",
   "execution_count": null,
   "metadata": {},
   "outputs": [],
   "source": [
    "val booleanSchema = schema {\n",
    "    boolean(\"isActive\")\n",
    "}\n",
    "\n",
    "println(\"Boolean Schema: $booleanSchema\")"
   ]
  },
  {
   "cell_type": "markdown",
   "metadata": {},
   "source": [
    "### 2.4 Object-Schema\n",
    "\n",
    "Ein Objekt-Schema, das verschachtelte Schemas und erforderliche Felder definiert."
   ]
  },
  {
   "cell_type": "code",
   "execution_count": null,
   "metadata": {},
   "outputs": [],
   "source": [
    "val userSchema = schema {\n",
    "    obj(\"user\") {\n",
    "        required(\"name\", \"age\", \"email\")\n",
    "        string(\"name\") { minLength(3) }\n",
    "        number(\"age\") { min(18) }\n",
    "        string(\"email\") { pattern(\"^[\\\\w\\\\.-]+@[\\\\w\\\\.-]+\\\\.\\\\w+$\") }\n",
    "        boolean(\"isAdmin\") { optional() }\n",
    "    }\n",
    "}\n",
    "\n",
    "println(\"User Schema: $userSchema\")"
   ]
  },
  {
   "cell_type": "markdown",
   "metadata": {},
   "source": [
    "### 2.5 Array-Schema\n",
    "\n",
    "Ein Array-Schema, das den Typ der Elemente und die Mindest-/Höchstanzahl der Elemente definiert."
   ]
  },
  {
   "cell_type": "code",
   "execution_count": null,
   "metadata": {},
   "outputs": [],
   "source": [
    "val tagsSchema = schema {\n",
    "    array(\"tags\") {\n",
    "        stringElements { minLength(2) }\n",
    "        minItems(1)\n",
    "        maxItems(5)\n",
    "    }\n",
    "}\n",
    "\n",
    "println(\"Tags Schema: $tagsSchema\")"
   ]
  },
  {
   "cell_type": "markdown",
   "metadata": {},
   "source": [
    "## 3. Daten-Validierung\n",
    "\n",
    "Nachdem wir Schemas definiert haben, können wir Daten gegen diese Schemas validieren."
   ]
  },
  {
   "cell_type": "markdown",
   "metadata": {},
   "source": [
    "### 3.1 Erfolgreiche Validierung"
   ]
  },
  {
   "cell_type": "code",
   "execution_count": null,
   "metadata": {},
   "outputs": [],
   "source": [
    "val validUserData = JSONObject(\"{\n    \"user\": {\n        \"name\": \"Alice\",\n        \"age\": 30,\n        \"email\": \"alice@example.com\",\n        \"isAdmin\": false\n    }\n}\n\")\n",
    "\n",
    "val validationResult = userSchema.validate(validUserData)\n",
    "\n",
    "if (validationResult.isValid) {\n",
    "    println(\"Validierung erfolgreich: ${validationResult.isValid}\")\n",
    "} else {\n",
    "    println(\"Validierung fehlgeschlagen: ${validationResult.errors}\")\n",
    "}"
   ]
  },
  {
   "cell_type": "markdown",
   "metadata": {},
   "source": [
    "### 3.2 Fehlgeschlagene Validierung"
   ]
  },
  {
   "cell_type": "code",
   "execution_count": null,
   "metadata": {},
   "outputs": [],
   "source": [
    "val invalidUserData = JSONObject(\"{\n    \"user\": {\n        \"name\": \"Al\",\n        \"age\": 17,\n        \"email\": \"invalid-email\",\n        \"isAdmin\": \"yes\"\n    }\n}\n\")\n",
    "\n",
    "val invalidValidationResult = userSchema.validate(invalidUserData)\n",
    "\n",
    "if (invalidValidationResult.isValid) {\n",
    "    println(\"Validierung erfolgreich: ${invalidValidationResult.isValid}\")\n",
    "} else {\n",
    "    println(\"Validierung fehlgeschlagen. Fehler:\")\n",
    "    invalidValidationResult.errors.forEach { error ->\n",
    "        println(\"- ${error.message} (Pfad: ${error.path})\")\n",
    "    }\n",
    "}"
   ]
  },
  {
   "cell_type": "markdown",
   "metadata": {},
   "source": [
    "### 3.3 Validierung eines Arrays"
   ]
  },
  {
   "cell_type": "code",
   "execution_count": null,
   "metadata": {},
   "outputs": [],
   "source": [
    "val validTagsData = JSONObject(\"{\n    \"tags\": [\"kotlin\", \"gradle\"]\n}\n\")\n",
    "\n",
    "val tagsValidationResult = tagsSchema.validate(validTagsData)\n",
    "\n",
    "if (tagsValidationResult.isValid) {\n",
    "    println(\"Tags Validierung erfolgreich: ${tagsValidationResult.isValid}\")\n",
    "} else {\n",
    "    println(\"Tags Validierung fehlgeschlagen: ${tagsValidationResult.errors}\")\n",
    "}\n",
    "\n",
    "val invalidTagsData = JSONObject(\"{\n    \"tags\": [\"a\", \"b\", \"c\", \"d\", \"e\", \"f\"]\n}\n\")\n",
    "\n",
    "val invalidTagsValidationResult = tagsSchema.validate(invalidTagsData)\n",
    "\n",
    "if (invalidTagsValidationResult.isValid) {\n",
    "    println(\"Invalid Tags Validierung erfolgreich: ${invalidTagsValidationResult.isValid}\")\n",
    "} else {\n",
    "    println(\"Invalid Tags Validierung fehlgeschlagen. Fehler:\")\n",
    "    invalidTagsValidationResult.errors.forEach { error ->\n",
    "        println(\"- ${error.message} (Pfad: ${error.path})\")\n",
    "    }\n",
    "}"
   ]
  },
  {
   "cell_type": "markdown",
   "metadata": {},
   "source": [
    "## 4. Fehlerbehandlung\n",
    "\n",
    "Fehler bei der Validierung werden als Liste von `ValidationError`-Objekten zurückgegeben, die Details wie die Fehlermeldung und den Pfad zum fehlerhaften Feld enthalten.\n",
    "\n",
    "Dies war eine kurze Einführung in das `validation`-Paket des DaBi-Frameworks. Es bietet eine flexible und typsichere Möglichkeit, Daten-Schemas in Kotlin zu definieren und zu validieren."
   ]
  }
 ],
 "metadata": {
  "kernelspec": {
   "display_name": "Kotlin",
   "language": "kotlin",
   "name": "kotlin"
  },
  "language_info": {
   "codemirror_mode": "kotlin",
   "file_extension": ".kt",
   "mimetype": "text/x-kotlin",
   "name": "kotlin",
   "pygments_lexer": "kotlin",
   "version": ""
  },
  "ktnbPluginMetadata": {
   "projectDependencies": [
    "DaBi-Framework.main"
   ],
   "projectLibraries": false
  }
 },
 "nbformat": 4,
 "nbformat_minor": 4
}
